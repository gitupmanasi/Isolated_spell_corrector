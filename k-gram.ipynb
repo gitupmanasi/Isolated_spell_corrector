{
 "cells": [
  {
   "cell_type": "code",
   "execution_count": 1,
   "metadata": {},
   "outputs": [],
   "source": [
    "from collections import Counter\n",
    "from nltk.tokenize import RegexpTokenizer"
   ]
  },
  {
   "cell_type": "code",
   "execution_count": 55,
   "metadata": {},
   "outputs": [],
   "source": [
    "text = \"Now-a-days, it is seen that certain species are unable to sustain themselves in their natural habitat especially where there is a scarcity of food and resources or a fierce competition amongst animals.\""
   ]
  },
  {
   "cell_type": "code",
   "execution_count": 4,
   "metadata": {},
   "outputs": [],
   "source": [
    "#text = \"$\"+text+\"$\""
   ]
  },
  {
   "cell_type": "code",
   "execution_count": 56,
   "metadata": {},
   "outputs": [
    {
     "name": "stdout",
     "output_type": "stream",
     "text": [
      "['now', 'a', 'days', 'it', 'is', 'seen', 'that', 'certain', 'species', 'are', 'unable', 'to', 'sustain', 'themselves', 'in', 'their', 'natural', 'habitat', 'especially', 'where', 'there', 'is', 'a', 'scarcity', 'of', 'food', 'and', 'resources', 'or', 'a', 'fierce', 'competition', 'amongst', 'animals']\n"
     ]
    }
   ],
   "source": [
    "text = text.lower()\n",
    "tokenizer = RegexpTokenizer(r'\\w+')\n",
    "words = tokenizer.tokenize(text)\n",
    "print(words)"
   ]
  },
  {
   "cell_type": "code",
   "execution_count": 54,
   "metadata": {},
   "outputs": [
    {
     "name": "stdout",
     "output_type": "stream",
     "text": [
      "Enter the value of k for k-gram : 3\n"
     ]
    }
   ],
   "source": [
    "k = int(input(\"Enter the value of k for k-gram : \"))\n",
    "k_gram = {}"
   ]
  },
  {
   "cell_type": "code",
   "execution_count": 57,
   "metadata": {},
   "outputs": [],
   "source": [
    "for i in range(len(words)) :\n",
    "    for j in range(len(words[i])-k+1) :\n",
    "        temp = words[i][j:j+k]\n",
    "        if temp not in k_gram.keys():\n",
    "            k_gram[temp]=[words[i]]\n",
    "        else :\n",
    "            temp_list = k_gram[temp]\n",
    "            temp_list.append(words[i])\n",
    "            k_gram[temp] = list(set(temp_list))"
   ]
  },
  {
   "cell_type": "code",
   "execution_count": 58,
   "metadata": {},
   "outputs": [
    {
     "name": "stdout",
     "output_type": "stream",
     "text": [
      "{'now': ['now'], 'day': ['days'], 'ays': ['days'], 'see': ['seen'], 'een': ['seen'], 'tha': ['that'], 'hat': ['that'], 'cer': ['certain'], 'ert': ['certain'], 'rta': ['certain'], 'tai': ['certain', 'sustain'], 'ain': ['certain', 'sustain'], 'spe': ['species', 'especially'], 'pec': ['species', 'especially'], 'eci': ['species', 'especially'], 'cie': ['species'], 'ies': ['species'], 'are': ['are'], 'una': ['unable'], 'nab': ['unable'], 'abl': ['unable'], 'ble': ['unable'], 'sus': ['sustain'], 'ust': ['sustain'], 'sta': ['sustain'], 'the': ['their', 'themselves', 'there'], 'hem': ['themselves'], 'ems': ['themselves'], 'mse': ['themselves'], 'sel': ['themselves'], 'elv': ['themselves'], 'lve': ['themselves'], 'ves': ['themselves'], 'hei': ['their'], 'eir': ['their'], 'nat': ['natural'], 'atu': ['natural'], 'tur': ['natural'], 'ura': ['natural'], 'ral': ['natural'], 'hab': ['habitat'], 'abi': ['habitat'], 'bit': ['habitat'], 'ita': ['habitat'], 'tat': ['habitat'], 'esp': ['especially'], 'cia': ['especially'], 'ial': ['especially'], 'all': ['especially'], 'lly': ['especially'], 'whe': ['where'], 'her': ['there', 'where'], 'ere': ['there', 'where'], 'sca': ['scarcity'], 'car': ['scarcity'], 'arc': ['scarcity'], 'rci': ['scarcity'], 'cit': ['scarcity'], 'ity': ['scarcity'], 'foo': ['food'], 'ood': ['food'], 'and': ['and'], 'res': ['resources'], 'eso': ['resources'], 'sou': ['resources'], 'our': ['resources'], 'urc': ['resources'], 'rce': ['resources', 'fierce'], 'ces': ['resources'], 'fie': ['fierce'], 'ier': ['fierce'], 'erc': ['fierce'], 'com': ['competition'], 'omp': ['competition'], 'mpe': ['competition'], 'pet': ['competition'], 'eti': ['competition'], 'tit': ['competition'], 'iti': ['competition'], 'tio': ['competition'], 'ion': ['competition'], 'amo': ['amongst'], 'mon': ['amongst'], 'ong': ['amongst'], 'ngs': ['amongst'], 'gst': ['amongst'], 'ani': ['animals'], 'nim': ['animals'], 'ima': ['animals'], 'mal': ['animals'], 'als': ['animals']}\n"
     ]
    }
   ],
   "source": [
    "print(k_gram)"
   ]
  },
  {
   "cell_type": "code",
   "execution_count": 64,
   "metadata": {},
   "outputs": [
    {
     "name": "stdout",
     "output_type": "stream",
     "text": [
      "Enter your query word : amonjt\n"
     ]
    }
   ],
   "source": [
    "query = input(\"Enter your query word : \")"
   ]
  },
  {
   "cell_type": "code",
   "execution_count": 65,
   "metadata": {},
   "outputs": [
    {
     "name": "stdout",
     "output_type": "stream",
     "text": [
      "['amo', 'mon', 'onj', 'njt']\n"
     ]
    }
   ],
   "source": [
    "user_gram = []\n",
    "for i in range(len(query)-k+1) :\n",
    "    user_gram.append(query[i:i+k])\n",
    "print(user_gram)"
   ]
  },
  {
   "cell_type": "code",
   "execution_count": 66,
   "metadata": {},
   "outputs": [
    {
     "name": "stdout",
     "output_type": "stream",
     "text": [
      "['amongst', 'amongst']\n"
     ]
    }
   ],
   "source": [
    "compare = []\n",
    "for i in range(len(user_gram)):\n",
    "    if user_gram[i] in k_gram.keys() :\n",
    "        temp = k_gram[user_gram[i]]\n",
    "        for j in range(len(temp)) :\n",
    "            compare.append(temp[j])\n",
    "print(compare)"
   ]
  },
  {
   "cell_type": "code",
   "execution_count": 67,
   "metadata": {},
   "outputs": [
    {
     "name": "stdout",
     "output_type": "stream",
     "text": [
      "['amongst']\n"
     ]
    }
   ],
   "source": [
    "compare = Counter(compare)\n",
    "keys = list(compare.keys())\n",
    "print(keys)"
   ]
  },
  {
   "cell_type": "code",
   "execution_count": 68,
   "metadata": {},
   "outputs": [
    {
     "name": "stdout",
     "output_type": "stream",
     "text": [
      "The word amonjt has been misspelt. Following are some suggestions : \n",
      "amongst -> 50.0%\n"
     ]
    }
   ],
   "source": [
    "if keys :\n",
    "    if compare[keys[0]] == len(user_gram) :\n",
    "        print(\"Congratulations! The entered word has been spelt correctly.\")\n",
    "    else :\n",
    "        print(\"The word \"+query+ \" has been misspelt. Following are some suggestions : \")\n",
    "        if len(compare.keys())>2 :\n",
    "            display = 3\n",
    "        else:\n",
    "            display=len(compare.keys())\n",
    "        for i in range(display) :\n",
    "            print(keys[i] + \" -> \"+str(compare[keys[i]]*100/len(user_gram))+\"%\")\n",
    "else:\n",
    "    print(\"The word does not match any word in dictionary.\")\n"
   ]
  }
 ],
 "metadata": {
  "kernelspec": {
   "display_name": "Python 3",
   "language": "python",
   "name": "python3"
  },
  "language_info": {
   "codemirror_mode": {
    "name": "ipython",
    "version": 3
   },
   "file_extension": ".py",
   "mimetype": "text/x-python",
   "name": "python",
   "nbconvert_exporter": "python",
   "pygments_lexer": "ipython3",
   "version": "3.6.5"
  }
 },
 "nbformat": 4,
 "nbformat_minor": 2
}
